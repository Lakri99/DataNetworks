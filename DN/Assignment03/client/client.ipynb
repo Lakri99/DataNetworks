{
 "metadata": {
  "language_info": {
   "codemirror_mode": {
    "name": "ipython",
    "version": 3
   },
   "file_extension": ".py",
   "mimetype": "text/x-python",
   "name": "python",
   "nbconvert_exporter": "python",
   "pygments_lexer": "ipython3",
   "version": "3.8.5"
  },
  "orig_nbformat": 2,
  "kernelspec": {
   "name": "python385jvsc74a57bd098b0a9b7b4eaaa670588a142fd0a9b87eaafe866f1db4228be72b4211d12040f",
   "display_name": "Python 3.8.5 64-bit ('base': conda)"
  }
 },
 "nbformat": 4,
 "nbformat_minor": 2,
 "cells": [
  {
   "cell_type": "code",
   "execution_count": 1,
   "metadata": {},
   "outputs": [],
   "source": [
    "from socket import *\n",
    "import hashlib\n",
    "import os\n",
    "import time"
   ]
  },
  {
   "cell_type": "code",
   "execution_count": 2,
   "metadata": {},
   "outputs": [],
   "source": [
    "def generate_md5_hash (file_data):\n",
    "    md5_hash = hashlib.md5(file_data)\n",
    "    f_id = md5_hash.hexdigest()\n",
    "    return str(f_id)"
   ]
  },
  {
   "cell_type": "code",
   "execution_count": 69,
   "metadata": {},
   "outputs": [
    {
     "output_type": "stream",
     "name": "stdout",
     "text": [
      "Client connected to server: localhost:7701\n"
     ]
    }
   ],
   "source": [
    "serverPort = 7701\n",
    "serverURL = \"localhost\"\n",
    "FORMAT = \"UTF-8\"\n",
    "# \n",
    "# Create TCP socket for future connections\n",
    "#\n",
    "clientSocket = socket(AF_INET, SOCK_STREAM)\n",
    "# clientSocket.TCPServer.allow_reuse_address = True\n",
    "# \n",
    "# Connect the client to the specified server\n",
    "#\n",
    "clientSocket.connect((serverURL, serverPort))\n",
    "print(\"Client connected to server: \" + serverURL + \":\" + str(serverPort))"
   ]
  },
  {
   "cell_type": "code",
   "execution_count": 56,
   "metadata": {},
   "outputs": [
    {
     "output_type": "stream",
     "name": "stdout",
     "text": [
      "Result from server: There are no files available\n"
     ]
    }
   ],
   "source": [
    "clientSocket.send(b'LIST_FILES')\n",
    "result = clientSocket.recv(4096)\n",
    "result = result.decode(\"UTF-8\")\n",
    "print(\"Result from server: \" + result)"
   ]
  },
  {
   "cell_type": "code",
   "execution_count": 70,
   "metadata": {},
   "outputs": [
    {
     "output_type": "stream",
     "name": "stdout",
     "text": [
      "Message from server: Please send the file name and file size\nb'The_file.jpg;194560'\nMessage from server: READY\n6008994857f03e089549f58db518f5d9\nb'6008994857f03e089549f58db518f5d9'\ncorrect\n"
     ]
    }
   ],
   "source": [
    "clientSocket.send(b'UPLOAD')\n",
    "result = clientSocket.recv(4096)\n",
    "result = result.decode(\"UTF-8\")\n",
    "print(\"Message from server: \" +result)\n",
    "if result:\n",
    "    filename = 'The_file.jpg'\n",
    "    filesize = os.path.getsize(filename)\n",
    "    message = bytes(filename + ';'+str(filesize), FORMAT)\n",
    "    print(message)\n",
    "    clientSocket.send(message)\n",
    "    result = clientSocket.recv(4096)\n",
    "    result = result.decode(FORMAT)\n",
    "    print(\"Message from server: \"+ result)\n",
    "    # import pdb; pdb.set_trace()\n",
    "    if result == 'READY':\n",
    "        data = open(filename, 'rb')\n",
    "        data = data.read()\n",
    "        clientSocket.sendall(data)\n",
    "        hash_rec = clientSocket.recv(4096)\n",
    "        # hash_rec = hash.decode(\"ascii\")\n",
    "        hash_gen = generate_md5_hash(data)\n",
    "        print(hash_gen)\n",
    "        print(hash_rec)\n",
    "        if hash_rec.decode('utf-8') == hash_gen:\n",
    "            print(\"correct\")\n",
    "            clientSocket.send(b'SUCCESS')"
   ]
  },
  {
   "cell_type": "code",
   "execution_count": 64,
   "metadata": {},
   "outputs": [
    {
     "output_type": "stream",
     "name": "stdout",
     "text": [
      "Result from server: 6008994857f03e089549f58db518f5d9;The_file.jpg;194560\n"
     ]
    }
   ],
   "source": [
    "clientSocket.send(b'LIST_FILES')\n",
    "result = clientSocket.recv(1024)\n",
    "result = result.decode(\"UTF-8\")\n",
    "print(\"Result from server: \" + result)\n",
    "# time.sleep(10)"
   ]
  },
  {
   "cell_type": "code",
   "execution_count": 66,
   "metadata": {},
   "outputs": [
    {
     "output_type": "stream",
     "name": "stdout",
     "text": [
      "Message from server: SEND fileid\ncorrect\n"
     ]
    }
   ],
   "source": [
    "fileid_rec = '6008994857f03e089549f58db518f5d9'\n",
    "clientSocket.send(b'DOWNLOAD')\n",
    "result = clientSocket.recv(1024)\n",
    "result = result.decode(\"UTF-8\")\n",
    "print(\"Message from server: \" + result)\n",
    "clientSocket.send(bytes(fileid_rec, 'utf-8'))\n",
    "\n",
    "data = b''\n",
    "data += clientSocket.recv(65536)\n",
    "data += clientSocket.recv(65536)\n",
    "data += clientSocket.recv(65536)\n",
    "# import pdb;pdb.set_trace()\n",
    "hash = generate_md5_hash(data)\n",
    "if hash == fileid_rec:\n",
    "    print(\"correct\")\n",
    "    clientSocket.send(b'SUCCESS')"
   ]
  },
  {
   "cell_type": "code",
   "execution_count": null,
   "metadata": {},
   "outputs": [],
   "source": []
  }
 ]
}